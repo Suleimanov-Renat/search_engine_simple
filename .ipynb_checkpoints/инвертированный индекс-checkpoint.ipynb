{
 "cells": [
  {
   "cell_type": "code",
   "execution_count": 159,
   "metadata": {
    "collapsed": true
   },
   "outputs": [],
   "source": [
    "import os,json\n",
    "\n",
    "def createdir(dirName):\n",
    "    try:\n",
    "        os.mkdir(dirName)\n",
    "        print(\"Directory \" , dirName ,  \" Created \") \n",
    "    except FileExistsError:\n",
    "        print(\"Directory \" , dirName ,  \" already exists\")\n",
    "        \n",
    "#write inv/txt file\n",
    "orpath = \"C:\\\\Users\\\\rinat\\\\Desktop\\\\now\\\\russian\\\\\"\n",
    "fname = 'invert_ind_table.txt'"
   ]
  },
  {
   "cell_type": "code",
   "execution_count": 160,
   "metadata": {},
   "outputs": [
    {
     "name": "stdout",
     "output_type": "stream",
     "text": [
      "Directory  C:\\Users\\rinat\\Desktop\\now\\russian\\resultlem  already exists\n"
     ]
    }
   ],
   "source": [
    "\n",
    "\n",
    "if os.path.isfile(orpath+fname):\n",
    "    mypath = r\"C:\\Users\\rinat\\Desktop\\now\\russian\\resultlem\"\n",
    "    createdir(mypath)\n",
    "    values = os.listdir(mypath)\n",
    "    dic = {}\n",
    "    arr = []\n",
    "    dic['sumallwords'] = {}\n",
    "    for f in values:\n",
    "        x = 0\n",
    "        with open(os.path.join(mypath, f), \"r\", encoding='utf-8')  as f1:\n",
    "            for line in f1:\n",
    "                for word in line.split():\n",
    "                    if word not in dic:\n",
    "                        dic[word] = {}\n",
    "                    if f not in dic[word]:\n",
    "                        dic[word][f] = [x]\n",
    "                    else:\n",
    "                        dic[word][f].append(x)\n",
    "                    x+=1\n",
    "        dic['sumallwords'][f] = x\n",
    "    for word in dic.keys():\n",
    "        if word != \"sumallwords\":\n",
    "            for href in dic[word].keys():\n",
    "                st = dic[word][href]\n",
    "                if type(st) != int:\n",
    "                    dic[word][href] = len(dic[word][href])\n",
    "                else:\n",
    "                    dic[word][href] = 1\n",
    "    with open(fname, 'w', encoding='utf-8', ) as file:\n",
    "         file.write(json.dumps(dic, ensure_ascii=False)) # use `json.loads` to do the reverse\n",
    "    len(dic)"
   ]
  },
  {
   "cell_type": "code",
   "execution_count": 161,
   "metadata": {},
   "outputs": [
    {
     "name": "stdout",
     "output_type": "stream",
     "text": [
      "25239\n"
     ]
    }
   ],
   "source": [
    "#reading created file above\n",
    "dicton = None\n",
    "if os.path.isfile(orpath+fname) != False:\n",
    "    with open(os.path.join(orpath, fname), \"r\", encoding='utf-8')  as f1:\n",
    "        dicton = json.load(f1)\n",
    "print(len(dicton))"
   ]
  },
  {
   "cell_type": "code",
   "execution_count": 162,
   "metadata": {
    "collapsed": true
   },
   "outputs": [],
   "source": [
    "#parse input\n",
    "import re\n",
    "\n",
    "def parseStrInput(value):\n",
    "    if len(value) > 100 and len(value) == 0:\n",
    "        err = \"length incorrect\"\n",
    "        raise err\n",
    "    value = re.sub('[!,.?]', '', value)\n",
    "    \n",
    "    value = value.replace(' не ', ' ¬ ')\n",
    "    value = value.replace(' или ', ' | ')\n",
    "    value = value.replace(' и ', \" & \")\n",
    "    value = value.replace(' не ', ' ¬ ')\n",
    "    value = value.replace(' или ', ' | ')\n",
    "    value = value.replace(' и ', \" & \")\n",
    "    \n",
    "    exc = str(value[0]+value[1]+value[2])\n",
    "    if exc == 'не ':\n",
    "        value = value.replace('не ', '¬ ', 1)\n",
    "    size = len(value)    \n",
    "    exc = str(value[size-1]+value[size-2]+value[size-3])\n",
    "    if exc == 'ен ':\n",
    "        value = value.replace(' не', '', -1)   \n",
    "        \n",
    "    value = \" \".join(value.split())\n",
    "    condlist = ['| |', '& &', '¬ ¬', '| &','& |','¬ | ¬', '| ¬ |','¬ & ¬', '& ¬ &']\n",
    "    replist = ['|', '&', '¬', '|', '&', '| ¬','| ¬', '& ¬', '& ¬']\n",
    "    \n",
    "    for i in range(len(condlist)):\n",
    "        cond = condlist[i]\n",
    "        val = replist[i]\n",
    "        while cond in value:\n",
    "            value = value.replace(cond, val, 1)   \n",
    "    for i in range(len(condlist)):\n",
    "        cond = condlist[i]\n",
    "        val = replist[i]\n",
    "        while cond in value:\n",
    "            value = value.replace(cond, val, 1) \n",
    "    return parseOprsInput(value)\n",
    "\n",
    "def parseOprsInput(value):\n",
    "    exclist = {'|','&'}\n",
    "    pvalue = value.split(\" \")\n",
    "    if pvalue[0] in exclist:\n",
    "        pvalue = pvalue[1:]\n",
    "    if pvalue[-1] in exclist:\n",
    "        pvalue = pvalue[0:-1]\n",
    "        \n",
    "    if len(pvalue) > 100 and len(pvalue) == 0:\n",
    "        err = \"length incorrect\"\n",
    "        raise err     \n",
    "    parsed = pvalue\n",
    "    fexclist = {'|','&','¬'}\n",
    "    text = []\n",
    "    oprs = []\n",
    "    ind = 0\n",
    "    k = 0\n",
    "    cur_word = None\n",
    "    if parsed[0] == \"¬\":\n",
    "        oprs.append([\"¬\", 0])\n",
    "        text.append(parsed[1])\n",
    "        ind=1\n",
    "        k = 2\n",
    "    for i in range(k,len(parsed)):\n",
    "        val = parsed[i]\n",
    "        if val in fexclist:\n",
    "            oprs.append([val, ind])\n",
    "        else:     \n",
    "            if i - 1 >= 0 and i < len(parsed):\n",
    "                if parsed[i-1] == '¬':\n",
    "                    if parsed[i-2] not in exclist and val not in exclist:\n",
    "                        oprs.append(['&', ind])\n",
    "                else:\n",
    "                    if parsed[i-1] not in exclist and val not in exclist:\n",
    "                        oprs.append(['&', ind])\n",
    "            ind += 1\n",
    "            text.append(val)\n",
    "    dic = {}\n",
    "    for i in range(len(text)):\n",
    "        key = text[i]\n",
    "        dic[key] = {}\n",
    "        opp = []\n",
    "        for op in oprs:\n",
    "            if op[1] == i:\n",
    "                dic[key][op[0]] = ''\n",
    "    return dic"
   ]
  },
  {
   "cell_type": "code",
   "execution_count": 163,
   "metadata": {
    "collapsed": true
   },
   "outputs": [],
   "source": [
    "def search(value,oper, dictonary):\n",
    "    notf = 'combination not found or one of these words is missing!'\n",
    "    notfone = 'one of these words is missing!'\n",
    "    failedstr = 'value error!'\n",
    "    message = []\n",
    "    failed = False\n",
    "    result = {}\n",
    "    count = 0\n",
    "    dic = dictonary\n",
    "    words = value.split(' ')\n",
    "    for i in range(len(words)):\n",
    "        words[i] = morph.parse(words[i])[0].normal_form\n",
    "        \n",
    "    if str(value.lower()) != \"\" and str(value.lower()) != \" \" and str(value.lower()) != None:\n",
    "        for word in words:\n",
    "            if word in dic:\n",
    "                if len(word) != 0:\n",
    "                    result = result\n",
    "                    result[word] = dic[word]\n",
    "                    count+=1\n",
    "                    continue\n",
    "    else:\n",
    "        return failedstr\n",
    "    \n",
    "    if count != len(words):\n",
    "        failed = True\n",
    "        message.append(notfone)\n",
    "   \n",
    "    if str(oper.lower()) == \"and\" and failed != True:\n",
    "        keys = list(result.keys())\n",
    "        res = set(result[keys[0]].keys())\n",
    "        for i in range(len(keys)):\n",
    "            if i != 0:\n",
    "                res = res & set(result[keys[i]].keys())\n",
    "        return [message,res]\n",
    "            \n",
    "        \n",
    "    \n",
    "    if str(oper.lower()) == \"or\" or failed == True:\n",
    "        if len(result) != 0: \n",
    "            keys = []\n",
    "            for word in result.keys():\n",
    "                for key in result[word]:\n",
    "                    keys.append(key)\n",
    "            if failed != True:\n",
    "                return keys\n",
    "                #return list(dict.fromkeys(keys))\n",
    "            else:\n",
    "                return [notf, keys]\n",
    "                #return [notf, list(dict.fromkeys(keys))]"
   ]
  },
  {
   "cell_type": "code",
   "execution_count": 251,
   "metadata": {
    "scrolled": false
   },
   "outputs": [],
   "source": [
    "import pymorphy2\n",
    "morph = pymorphy2.MorphAnalyzer()\n",
    "\n",
    "def dict_compare(d1, d2):\n",
    "    d1_keys = set(d1.keys())\n",
    "    d2_keys = set(d2.keys())\n",
    "    intersect_keys = d1_keys.intersection(d2_keys)    \n",
    "    same = set(o for o in intersect_keys if d1[o] == d2[o])\n",
    "    return  same\n",
    "\n",
    "def simple_search(value, dic):\n",
    "    notfound = 'not found!'\n",
    "    value = str(value.lower())\n",
    "    value = morph.parse(value)[0].normal_form\n",
    "    res = {}\n",
    "    if value in dic:\n",
    "        return dic[value]\n",
    "    else:\n",
    "        return notfound\n",
    "\n",
    "def dicDif(value, dic):\n",
    "    notfound = 'not found!'\n",
    "    value = str(value.lower())\n",
    "    value = morph.parse(value)[0].normal_form\n",
    "    res = {}\n",
    "    local = {}\n",
    "    if value in dic:\n",
    "        for href,val in dic[value].items():\n",
    "            local[href] = val\n",
    "            \n",
    "    for word in dic:\n",
    "        if word != value and word != 'sumallwords':\n",
    "            hrefs = {}\n",
    "            for href, val in dic[word].items():\n",
    "                if href not in local:\n",
    "                    hrefs[href] = val\n",
    "            if len(res) != 0 and len(hrefs) != 0:\n",
    "                res = {**res, **hrefs}\n",
    "            if len(res) == 0:\n",
    "                res = hrefs\n",
    "                \n",
    "            if len(hrefs) == 0:\n",
    "                continue\n",
    "    return res\n",
    "\n",
    "def main_search(value, dictonary):\n",
    "    res = {}\n",
    "    if len(value) == 0:\n",
    "        print('oops')\n",
    "        return None\n",
    "    \n",
    "    if len(value) == 1:\n",
    "        for key,val in value.items():\n",
    "            key = morph.parse(key)[0].normal_form\n",
    "            key = key.lower()\n",
    "            if len(val) != 0:\n",
    "                if '¬' in val.keys():\n",
    "                    return dicDif(key,dictonary)\n",
    "                else:\n",
    "                    return simple_search(key,dictonary)\n",
    "\n",
    "    local_res = {}\n",
    "    for key,val in value.items():\n",
    "        key = morph.parse(key)[0].normal_form\n",
    "        key = key.lower()\n",
    "        if '¬' in val.keys():\n",
    "            local_res = dicDif(key,dictonary)\n",
    "        else:\n",
    "            local_res = simple_search(key,dictonary)\n",
    "\n",
    "        if '&' not in val.keys() and '|' not in val.keys():\n",
    "            res = local_res\n",
    "            continue\n",
    "        else:\n",
    "            if '&' in val.keys() :\n",
    "                if len(res) != 0 and len(local_res) != 0:\n",
    "                    if len(res)<=len(local_res):                       \n",
    "                        res = dict_compare(res,local_res)\n",
    "                    else:\n",
    "                        res = dict_compare(res,local_res)\n",
    "                else:\n",
    "                    if len(res) == 0 and len(local_res) == 0:\n",
    "                        res = {}\n",
    "                    else:\n",
    "                        if len(local_res) == 0:\n",
    "                            res = local_res\n",
    "                        else:\n",
    "                            res = res\n",
    "            else:\n",
    "                if '|' in val.keys():\n",
    "                    if len(res) != 0 and len(local_res) != 0:\n",
    "                        res = {**res, **local_res}\n",
    "                    else:\n",
    "                        if len(res) == 0 and len(local_res) == 0:\n",
    "                            res = {}\n",
    "                        else:\n",
    "                            if len(local_res) == 0:\n",
    "                                res = local_res\n",
    "                            else:\n",
    "                                res = res\n",
    "    return res"
   ]
  },
  {
   "cell_type": "code",
   "execution_count": 261,
   "metadata": {},
   "outputs": [
    {
     "ename": "AttributeError",
     "evalue": "'set' object has no attribute 'keys'",
     "output_type": "error",
     "traceback": [
      "\u001b[1;31m---------------------------------------------------------------------------\u001b[0m",
      "\u001b[1;31mAttributeError\u001b[0m                            Traceback (most recent call last)",
      "\u001b[1;32m<ipython-input-261-1ed4d1604c7f>\u001b[0m in \u001b[0;36m<module>\u001b[1;34m()\u001b[0m\n\u001b[0;32m      1\u001b[0m \u001b[0mvalue\u001b[0m \u001b[1;33m=\u001b[0m \u001b[1;34m'выбрать и сумма и время'\u001b[0m\u001b[1;33m\u001b[0m\u001b[0m\n\u001b[0;32m      2\u001b[0m \u001b[0mdic\u001b[0m \u001b[1;33m=\u001b[0m \u001b[0mparseStrInput\u001b[0m\u001b[1;33m(\u001b[0m\u001b[0mvalue\u001b[0m\u001b[1;33m)\u001b[0m\u001b[1;33m\u001b[0m\u001b[0m\n\u001b[1;32m----> 3\u001b[1;33m \u001b[0mres\u001b[0m \u001b[1;33m=\u001b[0m \u001b[0mmain_search\u001b[0m\u001b[1;33m(\u001b[0m\u001b[0mdic\u001b[0m\u001b[1;33m,\u001b[0m \u001b[0mdicton\u001b[0m\u001b[1;33m)\u001b[0m\u001b[1;33m\u001b[0m\u001b[0m\n\u001b[0m\u001b[0;32m      4\u001b[0m \u001b[0mlen\u001b[0m\u001b[1;33m(\u001b[0m\u001b[0mres\u001b[0m\u001b[1;33m)\u001b[0m\u001b[1;33m\u001b[0m\u001b[0m\n",
      "\u001b[1;32m<ipython-input-251-eb58842ba5c0>\u001b[0m in \u001b[0;36mmain_search\u001b[1;34m(value, dictonary)\u001b[0m\n\u001b[0;32m     76\u001b[0m                 \u001b[1;32mif\u001b[0m \u001b[0mlen\u001b[0m\u001b[1;33m(\u001b[0m\u001b[0mres\u001b[0m\u001b[1;33m)\u001b[0m \u001b[1;33m!=\u001b[0m \u001b[1;36m0\u001b[0m \u001b[1;32mand\u001b[0m \u001b[0mlen\u001b[0m\u001b[1;33m(\u001b[0m\u001b[0mlocal_res\u001b[0m\u001b[1;33m)\u001b[0m \u001b[1;33m!=\u001b[0m \u001b[1;36m0\u001b[0m\u001b[1;33m:\u001b[0m\u001b[1;33m\u001b[0m\u001b[0m\n\u001b[0;32m     77\u001b[0m                     \u001b[1;32mif\u001b[0m \u001b[0mlen\u001b[0m\u001b[1;33m(\u001b[0m\u001b[0mres\u001b[0m\u001b[1;33m)\u001b[0m\u001b[1;33m<=\u001b[0m\u001b[0mlen\u001b[0m\u001b[1;33m(\u001b[0m\u001b[0mlocal_res\u001b[0m\u001b[1;33m)\u001b[0m\u001b[1;33m:\u001b[0m\u001b[1;33m\u001b[0m\u001b[0m\n\u001b[1;32m---> 78\u001b[1;33m                         \u001b[0mres\u001b[0m \u001b[1;33m=\u001b[0m \u001b[0mdict_compare\u001b[0m\u001b[1;33m(\u001b[0m\u001b[0mres\u001b[0m\u001b[1;33m,\u001b[0m\u001b[0mlocal_res\u001b[0m\u001b[1;33m)\u001b[0m\u001b[1;33m\u001b[0m\u001b[0m\n\u001b[0m\u001b[0;32m     79\u001b[0m                     \u001b[1;32melse\u001b[0m\u001b[1;33m:\u001b[0m\u001b[1;33m\u001b[0m\u001b[0m\n\u001b[0;32m     80\u001b[0m                         \u001b[0mres\u001b[0m \u001b[1;33m=\u001b[0m \u001b[0mdict_compare\u001b[0m\u001b[1;33m(\u001b[0m\u001b[0mres\u001b[0m\u001b[1;33m,\u001b[0m\u001b[0mlocal_res\u001b[0m\u001b[1;33m)\u001b[0m\u001b[1;33m\u001b[0m\u001b[0m\n",
      "\u001b[1;32m<ipython-input-251-eb58842ba5c0>\u001b[0m in \u001b[0;36mdict_compare\u001b[1;34m(d1, d2)\u001b[0m\n\u001b[0;32m      3\u001b[0m \u001b[1;33m\u001b[0m\u001b[0m\n\u001b[0;32m      4\u001b[0m \u001b[1;32mdef\u001b[0m \u001b[0mdict_compare\u001b[0m\u001b[1;33m(\u001b[0m\u001b[0md1\u001b[0m\u001b[1;33m,\u001b[0m \u001b[0md2\u001b[0m\u001b[1;33m)\u001b[0m\u001b[1;33m:\u001b[0m\u001b[1;33m\u001b[0m\u001b[0m\n\u001b[1;32m----> 5\u001b[1;33m     \u001b[0md1_keys\u001b[0m \u001b[1;33m=\u001b[0m \u001b[0mset\u001b[0m\u001b[1;33m(\u001b[0m\u001b[0md1\u001b[0m\u001b[1;33m.\u001b[0m\u001b[0mkeys\u001b[0m\u001b[1;33m(\u001b[0m\u001b[1;33m)\u001b[0m\u001b[1;33m)\u001b[0m\u001b[1;33m\u001b[0m\u001b[0m\n\u001b[0m\u001b[0;32m      6\u001b[0m     \u001b[0md2_keys\u001b[0m \u001b[1;33m=\u001b[0m \u001b[0mset\u001b[0m\u001b[1;33m(\u001b[0m\u001b[0md2\u001b[0m\u001b[1;33m.\u001b[0m\u001b[0mkeys\u001b[0m\u001b[1;33m(\u001b[0m\u001b[1;33m)\u001b[0m\u001b[1;33m)\u001b[0m\u001b[1;33m\u001b[0m\u001b[0m\n\u001b[0;32m      7\u001b[0m     \u001b[0mintersect_keys\u001b[0m \u001b[1;33m=\u001b[0m \u001b[0md1_keys\u001b[0m\u001b[1;33m.\u001b[0m\u001b[0mintersection\u001b[0m\u001b[1;33m(\u001b[0m\u001b[0md2_keys\u001b[0m\u001b[1;33m)\u001b[0m\u001b[1;33m\u001b[0m\u001b[0m\n",
      "\u001b[1;31mAttributeError\u001b[0m: 'set' object has no attribute 'keys'"
     ]
    }
   ],
   "source": [
    "value = 'выбрать и сумма и время'\n",
    "dic = parseStrInput(value)\n",
    "res = main_search(dic, dicton)\n",
    "len(res)"
   ]
  },
  {
   "cell_type": "code",
   "execution_count": 253,
   "metadata": {},
   "outputs": [
    {
     "data": {
      "text/plain": [
       "85"
      ]
     },
     "execution_count": 253,
     "metadata": {},
     "output_type": "execute_result"
    }
   ],
   "source": [
    "value = 'не стол'\n",
    "dic = parseStrInput(value)\n",
    "res = main_search(dic, dicton)\n",
    "len(res)"
   ]
  },
  {
   "cell_type": "code",
   "execution_count": 254,
   "metadata": {},
   "outputs": [
    {
     "data": {
      "text/plain": [
       "94"
      ]
     },
     "execution_count": 254,
     "metadata": {},
     "output_type": "execute_result"
    }
   ],
   "source": [
    "value = 'программист'\n",
    "dic = parseStrInput(value)\n",
    "res = main_search(dic, dicton)\n",
    "len(res)"
   ]
  }
 ],
 "metadata": {
  "kernelspec": {
   "display_name": "Python 3",
   "language": "python",
   "name": "python3"
  },
  "language_info": {
   "codemirror_mode": {
    "name": "ipython",
    "version": 3
   },
   "file_extension": ".py",
   "mimetype": "text/x-python",
   "name": "python",
   "nbconvert_exporter": "python",
   "pygments_lexer": "ipython3",
   "version": "3.6.2"
  }
 },
 "nbformat": 4,
 "nbformat_minor": 2
}
