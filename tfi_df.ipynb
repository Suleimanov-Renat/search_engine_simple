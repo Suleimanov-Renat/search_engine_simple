{
 "cells": [
  {
   "cell_type": "code",
   "execution_count": 1,
   "metadata": {},
   "outputs": [
    {
     "name": "stdout",
     "output_type": "stream",
     "text": [
      "25241\n"
     ]
    }
   ],
   "source": [
    "import os, json, math\n",
    "orpath = \"C:\\\\Users\\\\rinat\\\\Desktop\\\\now\\\\russian\\\\\"\n",
    "fname = 'invert_ind_table.txt'\n",
    "#reading created file above\n",
    "dicton = None\n",
    "if os.path.isfile(orpath+fname) != False:\n",
    "    with open(os.path.join(orpath, fname), \"r\", encoding='utf-8')  as f1:\n",
    "        dicton = json.load(f1)\n",
    "print(len(dicton))"
   ]
  },
  {
   "cell_type": "code",
   "execution_count": 2,
   "metadata": {
    "collapsed": true
   },
   "outputs": [],
   "source": [
    "def computeTF(wordDict):\n",
    "    for word in wordDict.keys():\n",
    "        if word != 'sumallwords':\n",
    "            for href in wordDict[word].keys():\n",
    "                val = wordDict['sumallwords'][href]\n",
    "                summ = wordDict[word][href]\n",
    "                wordDict[word][href] = {}\n",
    "                #wordDict[word][href]['count'] = val\n",
    "                wordDict[word][href]['tf'] = summ/val\n",
    "    return wordDict\n",
    "\n",
    "def computeIDF(wordDict):\n",
    "    N = 100\n",
    "    for word in wordDict.keys():\n",
    "        if word != 'sumallwords':\n",
    "            val = len(wordDict[word])\n",
    "            res = math.log10(N / float(val))\n",
    "            wordDict[word]['idf'] = 0\n",
    "            for href in wordDict[word].keys():\n",
    "                wordDict[word]['idf'] = res\n",
    "    return wordDict\n",
    "\n",
    "def computeTfIDF(wordDict):\n",
    "    for word in wordDict.keys():\n",
    "        if word != 'sumallwords':\n",
    "            for href in wordDict[word].keys():\n",
    "                if href != 'idf':\n",
    "                    wordDict[word][href]['tfidf'] = dic[word][href]['tf'] * dic[word]['idf']\n",
    "    return wordDict"
   ]
  },
  {
   "cell_type": "code",
   "execution_count": 3,
   "metadata": {},
   "outputs": [
    {
     "name": "stdout",
     "output_type": "stream",
     "text": [
      "0.001391628330055555\n",
      "0.0031364349189754314\n",
      "0.44369749923271273\n"
     ]
    }
   ],
   "source": [
    "dic = computeTF(dicton)\n",
    "dic = computeIDF(dic)\n",
    "dic = computeTfIDF(dic)\n",
    "print(dic['java']['lemmet10_page_Десять вещ.txt']['tfidf'])\n",
    "print(dic['java']['lemmet10_page_Десять вещ.txt']['tf'])\n",
    "print(dic['java']['idf'])"
   ]
  },
  {
   "cell_type": "code",
   "execution_count": 4,
   "metadata": {},
   "outputs": [
    {
     "name": "stdout",
     "output_type": "stream",
     "text": [
      "{'lemmet46_page_Больше, че.txt': {'tf': 0.00026001040041601667, 'tfidf': 0.00039596431234538166}, 'lemmet70_page_Техническо.txt': {'tf': 0.0005659309564233164, 'tfidf': 0.0008618442248332415}, 'lemmet96_page_Обзор прог.txt': {'tf': 0.0002543881963876876, 'tfidf': 0.00038740237732900985}, 'idf': 1.5228787452803376}\n"
     ]
    }
   ],
   "source": [
    "print(dic['инквизиция'])"
   ]
  },
  {
   "cell_type": "code",
   "execution_count": 5,
   "metadata": {
    "collapsed": true
   },
   "outputs": [],
   "source": [
    "with open('tf-idf.txt', 'w', encoding='utf-8', ) as file:\n",
    "         file.write(json.dumps(dic, ensure_ascii=False)) # use `json.loads` to do the reverse"
   ]
  }
 ],
 "metadata": {
  "kernelspec": {
   "display_name": "Python 3",
   "language": "python",
   "name": "python3"
  },
  "language_info": {
   "codemirror_mode": {
    "name": "ipython",
    "version": 3
   },
   "file_extension": ".py",
   "mimetype": "text/x-python",
   "name": "python",
   "nbconvert_exporter": "python",
   "pygments_lexer": "ipython3",
   "version": "3.6.2"
  }
 },
 "nbformat": 4,
 "nbformat_minor": 2
}
