{
 "cells": [
  {
   "cell_type": "code",
   "execution_count": 4,
   "metadata": {
    "collapsed": true
   },
   "outputs": [],
   "source": [
    "def createdir(dirName):\n",
    "    try:\n",
    "        os.mkdir(dirName)\n",
    "        print(\"Directory \" , dirName ,  \" Created \") \n",
    "    except FileExistsError:\n",
    "        print(\"Directory \" , dirName ,  \" already exists\")"
   ]
  },
  {
   "cell_type": "code",
   "execution_count": 6,
   "metadata": {},
   "outputs": [
    {
     "name": "stdout",
     "output_type": "stream",
     "text": [
      "Directory  C:\\Users\\rinat\\Desktop\\now\\russian\\result\\  already exists\n"
     ]
    }
   ],
   "source": [
    "import requests,bs4,os\n",
    "mypath = \"C:\\\\Users\\\\rinat\\\\Desktop\\\\now\\\\russian\\\\result\\\\\"\n",
    "createdir(mypath)\n",
    "qlist = ['ООП', 'деньги', \"компания\", \"собеседование\", \"java\"]\n",
    "page = 1\n",
    "numb = 1\n",
    "constr = 20\n",
    "locages = []\n",
    "for query in qlist:\n",
    "    url = 'https://habr.com/ru/search/page' + str(page) + '/?q=' + query + '&target_type=posts&flow=&order_by=relevance'\n",
    "    r = requests.get(url, allow_redirects=True)\n",
    "    soup = bs4.BeautifulSoup(r.content)\n",
    "    hrefs = []\n",
    "    for res in soup.findAll(\"article\"):\n",
    "        hrefs.append(res.findNext('h2').findNext('a')['href'])\n",
    "    count = 0\n",
    "    for link in hrefs:\n",
    "        if count < constr:\n",
    "            count+=1\n",
    "            r = requests.get(link, allow_redirects=True)\n",
    "            soup = bs4.BeautifulSoup(r.content)\n",
    "            title = soup.find('h1',{'class','post__title post__title_full'}).find('span').string\n",
    "            cont = soup.find('div',{'class','post__text post__text-html js-mediator-article'}).text\n",
    "            with open(os.path.join(mypath, str(numb)+'_page_'+title[0:10]+'.txt'), 'w') as f:\n",
    "                if len(cont) != 0 and cont != None:\n",
    "                    f.write(\"%s\\n\" % title)\n",
    "                    f.write(\"%s\\n\" % cont)\n",
    "            namepage = str(numb)+'_page_'+title[0:10]+'.txt'\n",
    "            locages.append([namepage, link])\n",
    "            numb+=1\n",
    "        else:\n",
    "            break\n",
    "#os.path.join(mypath, f)"
   ]
  },
  {
   "cell_type": "code",
   "execution_count": 7,
   "metadata": {
    "collapsed": true
   },
   "outputs": [],
   "source": [
    "with open('indexan.txt', 'a') as f:\n",
    "    for local in locages:\n",
    "        f.write(\"%s\" % local[0] )\n",
    "        f.write(\" %s\\n\" % local[1])"
   ]
  }
 ],
 "metadata": {
  "kernelspec": {
   "display_name": "Python 3",
   "language": "python",
   "name": "python3"
  },
  "language_info": {
   "codemirror_mode": {
    "name": "ipython",
    "version": 3
   },
   "file_extension": ".py",
   "mimetype": "text/x-python",
   "name": "python",
   "nbconvert_exporter": "python",
   "pygments_lexer": "ipython3",
   "version": "3.6.2"
  }
 },
 "nbformat": 4,
 "nbformat_minor": 2
}
