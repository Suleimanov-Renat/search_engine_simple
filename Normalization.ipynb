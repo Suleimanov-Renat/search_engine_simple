{
 "cells": [
  {
   "cell_type": "code",
   "execution_count": 1,
   "metadata": {
    "collapsed": true
   },
   "outputs": [],
   "source": [
    "def createdir(dirName):\n",
    "    try:\n",
    "        os.mkdir(dirName)\n",
    "        print(\"Directory \" , dirName ,  \" Created \") \n",
    "    except FileExistsError:\n",
    "        print(\"Directory \" , dirName ,  \" already exists\")"
   ]
  },
  {
   "cell_type": "code",
   "execution_count": 2,
   "metadata": {},
   "outputs": [
    {
     "name": "stdout",
     "output_type": "stream",
     "text": [
      "Directory  C:\\Users\\rinat\\Desktop\\now\\russian\\result\\  already exists\n",
      "Directory  C:\\Users\\rinat\\Desktop\\now\\russian\\resultlem\\  already exists\n"
     ]
    }
   ],
   "source": [
    "import os\n",
    "mypathor = \"C:\\\\Users\\\\rinat\\\\Desktop\\\\now\\\\russian\\\\resultlem\\\\\"\n",
    "mypath = \"C:\\\\Users\\\\rinat\\\\Desktop\\\\now\\\\russian\\\\result\\\\\"\n",
    "createdir(mypath)\n",
    "createdir(mypathor)\n",
    "\n",
    "values = os.listdir(mypath)"
   ]
  },
  {
   "cell_type": "code",
   "execution_count": 4,
   "metadata": {},
   "outputs": [],
   "source": [
    "import pymorphy2, re\n",
    "direct = mypath\n",
    "for f in values:\n",
    "    morph = pymorphy2.MorphAnalyzer()\n",
    "    stores = []\n",
    "    with open(os.path.join(direct, f), \"r\")  as f1:\n",
    "        for line in f1:\n",
    "            for word in line.split():\n",
    "                word = re.sub('[!,.?:;↑−•„“»)(»_]', '', word)\n",
    "                stores.append(morph.parse(word)[0].normal_form)\n",
    "                #morph.parse(word)[0].normal_form\n",
    "    with open(os.path.join(mypathor, 'lemmet'+f), 'w') as f3:\n",
    "        for val in stores:\n",
    "            f3.write(\"%s \" %val)"
   ]
  }
 ],
 "metadata": {
  "kernelspec": {
   "display_name": "Python 3",
   "language": "python",
   "name": "python3"
  },
  "language_info": {
   "codemirror_mode": {
    "name": "ipython",
    "version": 3
   },
   "file_extension": ".py",
   "mimetype": "text/x-python",
   "name": "python",
   "nbconvert_exporter": "python",
   "pygments_lexer": "ipython3",
   "version": "3.6.2"
  }
 },
 "nbformat": 4,
 "nbformat_minor": 2
}
